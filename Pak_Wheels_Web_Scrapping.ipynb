{
 "cells": [
  {
   "cell_type": "markdown",
   "metadata": {},
   "source": [
    "### Importing Packages"
   ]
  },
  {
   "cell_type": "code",
   "execution_count": 1,
   "metadata": {},
   "outputs": [],
   "source": [
    "from bs4 import BeautifulSoup\n",
    "import requests"
   ]
  },
  {
   "cell_type": "code",
   "execution_count": 2,
   "metadata": {},
   "outputs": [
    {
     "data": {
      "text/plain": [
       "<Response [200]>"
      ]
     },
     "execution_count": 2,
     "metadata": {},
     "output_type": "execute_result"
    }
   ],
   "source": [
    "url = 'https://www.pakwheels.com/new-cars/toyota/'\n",
    "\n",
    "response = requests.get(url)\n",
    "response"
   ]
  },
  {
   "cell_type": "code",
   "execution_count": 4,
   "metadata": {},
   "outputs": [],
   "source": [
    "data = BeautifulSoup(response.content, 'html.parser')\n",
    "cars = data.find_all(class_='col-md-3')\n",
    "# cars\n",
    "# cars_url = cars.find_all('')"
   ]
  },
  {
   "cell_type": "code",
   "execution_count": 5,
   "metadata": {},
   "outputs": [],
   "source": [
    "links = []\n",
    "\n",
    "if data.find_all(class_='col-md-3'):\n",
    "    # for link in data.find_all(class_='show'):\n",
    "    #     print(link.get('href'))\n",
    "    for tag in data.find_all(class_='show'):\n",
    "        link = 'https://www.pakwheels.com' + tag.get('href')\n",
    "        # print(link)\n",
    "        links.append(link)"
   ]
  },
  {
   "cell_type": "code",
   "execution_count": 9,
   "metadata": {},
   "outputs": [
    {
     "name": "stdout",
     "output_type": "stream",
     "text": [
      "['https://www.pakwheels.com/new-cars/toyota/yaris/', 'https://www.pakwheels.com/new-cars/toyota/corolla/', 'https://www.pakwheels.com/new-cars/toyota/corolla-cross/', 'https://www.pakwheels.com/new-cars/toyota/rush/', 'https://www.pakwheels.com/new-cars/toyota/hilux/']\n"
     ]
    }
   ],
   "source": [
    "print(links[:5])"
   ]
  },
  {
   "cell_type": "code",
   "execution_count": 10,
   "metadata": {},
   "outputs": [
    {
     "data": {
      "text/plain": [
       "96"
      ]
     },
     "execution_count": 10,
     "metadata": {},
     "output_type": "execute_result"
    }
   ],
   "source": [
    "len(links)"
   ]
  },
  {
   "cell_type": "code",
   "execution_count": 11,
   "metadata": {},
   "outputs": [],
   "source": [
    "# for link in links:\n",
    "response = requests.get(links[0])\n",
    "car_data = BeautifulSoup(response.content, 'html.parser')\n"
   ]
  },
  {
   "cell_type": "code",
   "execution_count": 12,
   "metadata": {},
   "outputs": [
    {
     "data": {
      "text/plain": [
       "'Toyota Yaris 2025 Price in Pakistan, Images, Reviews & Specs'"
      ]
     },
     "execution_count": 12,
     "metadata": {},
     "output_type": "execute_result"
    }
   ],
   "source": [
    "title = car_data.find('h1')\n",
    "title.text"
   ]
  },
  {
   "cell_type": "code",
   "execution_count": 13,
   "metadata": {},
   "outputs": [],
   "source": [
    "if car_data.find(class_='table'):\n",
    "    price = car_data.find_all(class_='fuelType')\n",
    "    price"
   ]
  },
  {
   "cell_type": "code",
   "execution_count": 14,
   "metadata": {},
   "outputs": [
    {
     "name": "stdout",
     "output_type": "stream",
     "text": [
      "Price : 44.8 - 63.2 lacs\n",
      "Body Type : Sedan\n",
      "Dimensions (Length x Width x Height) : 4425 x 1730 x 1475 mm\n",
      "Ground Clearance : 175 mm\n",
      "Displacement : 1329 - 1496 cc\n",
      "Transmission : Manual & Automatic\n",
      "Horse Power : 98 - 106 hp\n",
      "Torque : 123 - 140 Nm\n",
      "Boot Space : 476 L\n",
      "Kerb Weight : 1135 - 1145 KG\n",
      "Fuel Type : Petrol\n",
      "Mileage : 12 - 16 KM/L\n",
      "Fuel Tank Capacity : 42 L\n",
      "Seating Capacity : 5 - Persons\n",
      "Top Speed : 180 - 220 KM/H\n",
      "Tyre Size : 185/60/R15\n"
     ]
    }
   ],
   "source": [
    "table = car_data.find('table', class_='table bike-version-detailscont')\n",
    "table_rows = table.find_all('tr')\n",
    "for data in table_rows:\n",
    "    table_data = data.find_all('td')\n",
    "    key = table_data[0].text.strip()\n",
    "    value = table_data[1].text.strip()\n",
    "    print(key,\":\", value)"
   ]
  }
 ],
 "metadata": {
  "kernelspec": {
   "display_name": "Python 3 (ipykernel)",
   "language": "python",
   "name": "python3"
  },
  "language_info": {
   "codemirror_mode": {
    "name": "ipython",
    "version": 3
   },
   "file_extension": ".py",
   "mimetype": "text/x-python",
   "name": "python",
   "nbconvert_exporter": "python",
   "pygments_lexer": "ipython3",
   "version": "3.11.7"
  }
 },
 "nbformat": 4,
 "nbformat_minor": 4
}
