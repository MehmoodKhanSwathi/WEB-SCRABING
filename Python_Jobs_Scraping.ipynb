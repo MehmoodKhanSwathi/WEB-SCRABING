{
 "cells": [
  {
   "cell_type": "code",
   "execution_count": null,
   "metadata": {},
   "outputs": [],
   "source": [
    "# pip install bs4"
   ]
  },
  {
   "cell_type": "code",
   "execution_count": 2,
   "metadata": {},
   "outputs": [],
   "source": [
    "from bs4 import BeautifulSoup\n",
    "import requests"
   ]
  },
  {
   "cell_type": "code",
   "execution_count": 4,
   "metadata": {},
   "outputs": [],
   "source": [
    "url = 'https://realpython.github.io/fake-jobs/'\n",
    "\n",
    "response = requests.get(url)"
   ]
  },
  {
   "cell_type": "code",
   "execution_count": 5,
   "metadata": {},
   "outputs": [],
   "source": [
    "data = BeautifulSoup(response.content, 'html.parser')"
   ]
  },
  {
   "cell_type": "code",
   "execution_count": 6,
   "metadata": {},
   "outputs": [
    {
     "name": "stdout",
     "output_type": "stream",
     "text": [
      "Senior Python Developer\n"
     ]
    }
   ],
   "source": [
    "# Scraping one job\n",
    "job_title = data.find(class_='title is-5')\n",
    "\n",
    "print(job_title.text)"
   ]
  },
  {
   "cell_type": "code",
   "execution_count": 7,
   "metadata": {},
   "outputs": [
    {
     "name": "stdout",
     "output_type": "stream",
     "text": [
      "Fitness centre manager\n"
     ]
    }
   ],
   "source": [
    "#scraping all jobs title\n",
    "all_job_title = data.find_all(class_='title is-5')\n",
    "\n",
    "print(all_job_title[3].text)"
   ]
  },
  {
   "cell_type": "code",
   "execution_count": 10,
   "metadata": {},
   "outputs": [],
   "source": [
    "# Scraping element by id\n",
    "container = data.find(id='ResultsContainer')"
   ]
  },
  {
   "cell_type": "code",
   "execution_count": 11,
   "metadata": {},
   "outputs": [],
   "source": [
    "# Scraping element by class\n",
    "job_divs = container.find_all(class_='column is-half')"
   ]
  },
  {
   "cell_type": "code",
   "execution_count": 17,
   "metadata": {},
   "outputs": [
    {
     "name": "stdout",
     "output_type": "stream",
     "text": [
      "Senior Python Developer\n",
      "Energy engineer\n",
      "Legal executive\n",
      "Fitness centre manager\n",
      "Product manager\n",
      "Medical technical officer\n",
      "Physiological scientist\n",
      "Textile designer\n",
      "Television floor manager\n",
      "Waste management officer\n"
     ]
    }
   ],
   "source": [
    "# Printing job titles\n",
    "for i, job in enumerate(job_divs[:10]):\n",
    "    title = job.find(class_='title')\n",
    "    print(title.text)"
   ]
  },
  {
   "cell_type": "code",
   "execution_count": 14,
   "metadata": {},
   "outputs": [
    {
     "name": "stdout",
     "output_type": "stream",
     "text": [
      "<figure class=\"image is-48x48\">\n",
      "<img alt=\"Real Python Logo\" src=\"https://files.realpython.com/media/real-python-logo-thumbnail.7f0db70c2ed2.jpg?__no_cf_polish=1\"/>\n",
      "</figure>\n",
      "<figure class=\"image is-48x48\">\n",
      "<img alt=\"Real Python Logo\" src=\"https://files.realpython.com/media/real-python-logo-thumbnail.7f0db70c2ed2.jpg?__no_cf_polish=1\"/>\n",
      "</figure>\n",
      "<figure class=\"image is-48x48\">\n",
      "<img alt=\"Real Python Logo\" src=\"https://files.realpython.com/media/real-python-logo-thumbnail.7f0db70c2ed2.jpg?__no_cf_polish=1\"/>\n",
      "</figure>\n",
      "<figure class=\"image is-48x48\">\n",
      "<img alt=\"Real Python Logo\" src=\"https://files.realpython.com/media/real-python-logo-thumbnail.7f0db70c2ed2.jpg?__no_cf_polish=1\"/>\n",
      "</figure>\n",
      "<figure class=\"image is-48x48\">\n",
      "<img alt=\"Real Python Logo\" src=\"https://files.realpython.com/media/real-python-logo-thumbnail.7f0db70c2ed2.jpg?__no_cf_polish=1\"/>\n",
      "</figure>\n"
     ]
    }
   ],
   "source": [
    "# Extracting Images through class\n",
    "for i, job in enumerate(job_divs[:5]):\n",
    "    image = job.find(class_='image')\n",
    "    print(image)"
   ]
  },
  {
   "cell_type": "code",
   "execution_count": 15,
   "metadata": {},
   "outputs": [],
   "source": [
    "# Storing extracted data\n",
    "dict_data = {}\n",
    "\n",
    "for job in job_divs:\n",
    "    title = job.find(class_='title').text\n",
    "    sub_title = job.find(class_='subtitle').text\n",
    "    location = job.find(class_='location').text.strip()\n",
    "    date = job.find(class_='is-small').text.strip()\n",
    "\n",
    "    dict_data = {\n",
    "        'title': title,\n",
    "        'subtitle': sub_title,\n",
    "        'location': location,\n",
    "        'date': date\n",
    "    }"
   ]
  },
  {
   "cell_type": "code",
   "execution_count": null,
   "metadata": {},
   "outputs": [],
   "source": []
  }
 ],
 "metadata": {
  "kernelspec": {
   "display_name": "Python 3 (ipykernel)",
   "language": "python",
   "name": "python3"
  },
  "language_info": {
   "codemirror_mode": {
    "name": "ipython",
    "version": 3
   },
   "file_extension": ".py",
   "mimetype": "text/x-python",
   "name": "python",
   "nbconvert_exporter": "python",
   "pygments_lexer": "ipython3",
   "version": "3.11.7"
  }
 },
 "nbformat": 4,
 "nbformat_minor": 4
}
