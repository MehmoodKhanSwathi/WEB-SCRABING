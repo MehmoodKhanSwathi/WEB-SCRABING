{
 "cells": [
  {
   "cell_type": "code",
   "execution_count": 1,
   "metadata": {},
   "outputs": [],
   "source": [
    "import requests\n",
    "from bs4 import BeautifulSoup"
   ]
  },
  {
   "cell_type": "code",
   "execution_count": 2,
   "metadata": {},
   "outputs": [],
   "source": [
    "base_url = 'https://quotes.toscrape.com/'\n",
    "\n",
    "response = requests.get(url=base_url)"
   ]
  },
  {
   "cell_type": "code",
   "execution_count": 4,
   "metadata": {},
   "outputs": [],
   "source": [
    "markup = response.text"
   ]
  },
  {
   "cell_type": "code",
   "execution_count": 6,
   "metadata": {},
   "outputs": [],
   "source": [
    "soup = BeautifulSoup(markup, 'html.parser')"
   ]
  },
  {
   "cell_type": "code",
   "execution_count": 9,
   "metadata": {},
   "outputs": [
    {
     "data": {
      "text/plain": [
       "10"
      ]
     },
     "execution_count": 9,
     "metadata": {},
     "output_type": "execute_result"
    }
   ],
   "source": [
    "quotes_obj = soup.select('div.quote')\n",
    "# len(quotes_obj)"
   ]
  },
  {
   "cell_type": "code",
   "execution_count": 15,
   "metadata": {},
   "outputs": [
    {
     "data": {
      "text/plain": [
       "'“The world as we have created it is a process of our thinking. It cannot be changed without changing our thinking.”'"
      ]
     },
     "execution_count": 15,
     "metadata": {},
     "output_type": "execute_result"
    }
   ],
   "source": [
    "quote_title = quotes_obj[0].select_one('span.text').text.strip()\n",
    "quote_title"
   ]
  },
  {
   "cell_type": "code",
   "execution_count": 20,
   "metadata": {},
   "outputs": [
    {
     "data": {
      "text/plain": [
       "'Albert Einstein'"
      ]
     },
     "execution_count": 20,
     "metadata": {},
     "output_type": "execute_result"
    }
   ],
   "source": [
    "quote_author= quotes_obj[0].select_one('span small.author')\n",
    "quote_author.text"
   ]
  },
  {
   "cell_type": "code",
   "execution_count": 23,
   "metadata": {},
   "outputs": [
    {
     "name": "stdout",
     "output_type": "stream",
     "text": [
      "{'quote_text': '“The world as we have created it is a process of our thinking. It cannot be changed without changing our thinking.”', 'quote_author': 'Albert Einstein'}\n",
      "{'quote_text': '“It is our choices, Harry, that show what we truly are, far more than our abilities.”', 'quote_author': 'Albert Einstein'}\n",
      "{'quote_text': '“There are only two ways to live your life. One is as though nothing is a miracle. The other is as though everything is a miracle.”', 'quote_author': 'Albert Einstein'}\n",
      "{'quote_text': '“The person, be it gentleman or lady, who has not pleasure in a good novel, must be intolerably stupid.”', 'quote_author': 'Albert Einstein'}\n",
      "{'quote_text': \"“Imperfection is beauty, madness is genius and it's better to be absolutely ridiculous than absolutely boring.”\", 'quote_author': 'Albert Einstein'}\n",
      "{'quote_text': '“Try not to become a man of success. Rather become a man of value.”', 'quote_author': 'Albert Einstein'}\n",
      "{'quote_text': '“It is better to be hated for what you are than to be loved for what you are not.”', 'quote_author': 'Albert Einstein'}\n",
      "{'quote_text': \"“I have not failed. I've just found 10,000 ways that won't work.”\", 'quote_author': 'Albert Einstein'}\n",
      "{'quote_text': \"“A woman is like a tea bag; you never know how strong it is until it's in hot water.”\", 'quote_author': 'Albert Einstein'}\n",
      "{'quote_text': '“A day without sunshine is like, you know, night.”', 'quote_author': 'Albert Einstein'}\n"
     ]
    }
   ],
   "source": [
    "\n",
    "\n",
    "for obj in quotes_obj:\n",
    "    temp_dict = {}\n",
    "    quote_text = obj.select_one('span.text').text.strip()\n",
    "    quote_author= quotes_obj[0].select_one('span small.author').text\n",
    "    temp_dict['quote_text'] = quote_text\n",
    "    temp_dict['quote_author'] = quote_author\n",
    "    # print(quote_author, '\\n', quote_text)\n",
    "\n",
    "    print(temp_dict)"
   ]
  },
  {
   "cell_type": "code",
   "execution_count": null,
   "metadata": {},
   "outputs": [],
   "source": []
  }
 ],
 "metadata": {
  "kernelspec": {
   "display_name": "Python 3",
   "language": "python",
   "name": "python3"
  },
  "language_info": {
   "codemirror_mode": {
    "name": "ipython",
    "version": 3
   },
   "file_extension": ".py",
   "mimetype": "text/x-python",
   "name": "python",
   "nbconvert_exporter": "python",
   "pygments_lexer": "ipython3",
   "version": "3.12.5"
  }
 },
 "nbformat": 4,
 "nbformat_minor": 2
}
