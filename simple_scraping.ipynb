{
 "cells": [
  {
   "cell_type": "code",
   "execution_count": 6,
   "metadata": {},
   "outputs": [],
   "source": [
    "html_doc = \"\"\"\n",
    "<!DOCTYPE html>\n",
    "<html lang=\"en\">\n",
    "<head>\n",
    "    <meta charset=\"UTF-8\">\n",
    "    <meta name=\"viewport\" content=\"width=device-width, initial-scale=1.0\">\n",
    "    <title>Simple HTML Page</title>\n",
    "</head>\n",
    "<body>\n",
    "    <p class=sister id=link1>This is the first paragraph.</p>\n",
    "    <p class=sister id=link2>This is the second paragraph with a <a href=\"https://www.example.com\">link to Example</a>.</p>\n",
    "    <p class=sister id=link3>This is the third paragraph with another <a href=\"https://www.google.com\">link to Google</a>.</p>\n",
    "\n",
    "    <a href=\"https://www.wikipedia.org\">Visit Wikipedia</a>\n",
    "    <a href=\"https://www.github.com\">Visit GitHub</a>\n",
    "    <a href=\"https://www.stackoverflow.com\">Visit Stack Overflow</a>\n",
    "</body>\n",
    "</html>\n",
    "\"\"\""
   ]
  },
  {
   "cell_type": "code",
   "execution_count": 3,
   "metadata": {},
   "outputs": [],
   "source": [
    "from bs4 import BeautifulSoup"
   ]
  },
  {
   "cell_type": "code",
   "execution_count": 7,
   "metadata": {},
   "outputs": [],
   "source": [
    "soup = BeautifulSoup(html_doc, 'html.parser')"
   ]
  },
  {
   "cell_type": "code",
   "execution_count": 11,
   "metadata": {},
   "outputs": [],
   "source": [
    "parent_obg = soup.select('p')"
   ]
  },
  {
   "cell_type": "code",
   "execution_count": 12,
   "metadata": {},
   "outputs": [
    {
     "data": {
      "text/plain": [
       "[<p>This is the first paragraph.</p>,\n",
       " <p>This is the second paragraph with a <a href=\"https://www.example.com\">link to Example</a>.</p>,\n",
       " <p>This is the third paragraph with another <a href=\"https://www.google.com\">link to Google</a>.</p>]"
      ]
     },
     "execution_count": 12,
     "metadata": {},
     "output_type": "execute_result"
    }
   ],
   "source": [
    "parent_obg"
   ]
  },
  {
   "cell_type": "code",
   "execution_count": null,
   "metadata": {},
   "outputs": [],
   "source": []
  }
 ],
 "metadata": {
  "kernelspec": {
   "display_name": "Python 3",
   "language": "python",
   "name": "python3"
  },
  "language_info": {
   "codemirror_mode": {
    "name": "ipython",
    "version": 3
   },
   "file_extension": ".py",
   "mimetype": "text/x-python",
   "name": "python",
   "nbconvert_exporter": "python",
   "pygments_lexer": "ipython3",
   "version": "3.12.5"
  }
 },
 "nbformat": 4,
 "nbformat_minor": 2
}
